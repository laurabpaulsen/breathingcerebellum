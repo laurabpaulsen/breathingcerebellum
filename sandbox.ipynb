{
 "cells": [
  {
   "cell_type": "code",
   "execution_count": 1,
   "metadata": {},
   "outputs": [],
   "source": [
    "from SGC_connector import SGC_connector\n",
    "from pathlib import Path\n",
    "from psychopy.data import QuestPlusHandler\n",
    "import numpy as np"
   ]
  },
  {
   "cell_type": "code",
   "execution_count": 2,
   "metadata": {},
   "outputs": [
    {
     "name": "stdout",
     "output_type": "stream",
     "text": [
      "{1.0: '?I,10$D6#', 1.1: '?I,11$D7#', 1.2: '?I,12$D8#', 1.3: '?I,13$D9#', 1.4: '?I,14$DA#', 1.5: '?I,15$DB#', 1.6: '?I,16$DC#', 1.7: '?I,17$DD#', 1.8: '?I,18$DE#', 1.9: '?I,19$DF#', 2.0: '?I,20$D7#', 2.1: '?I,21$D8#', 2.2: '?I,22$D9#', 2.3: '?I,23$DA#', 2.4: '?I,24$DB#', 2.5: '?I,25$DC#', 2.6: '?I,26$DD#', 2.7: '?I,27$DE#', 2.8: '?I,28$DF#', 2.9: '?I,29$E0#', 3.0: '?I,30$D8#', 3.1: '?I,31$D9#', 3.2: '?I,32$DA#', 3.3: '?I,33$DB#', 3.4: '?I,34$DC#', 3.5: '?I,35$DD#', 3.6: '?I,36$DE#', 3.7: '?I,37$DF#', 3.8: '?I,38$E0#', 3.9: '?I,39$E1#', 4.0: '?I,40$D9#', 4.1: '?I,41$DA#', 4.2: '?I,42$DB#', 4.3: '?I,43$DC#', 4.4: '?I,44$DD#', 4.5: '?I,45$DE#', 4.6: '?I,46$DF#', 4.7: '?I,47$E0#', 4.8: '?I,48$E1#', 4.9: '?I,49$E2#', 5.0: '?I,50$DA#', 5.1: '?I,51$DB#', 5.2: '?I,52$DC#', 5.3: '?I,53$DD#', 5.4: '?I,54$DE#', 5.5: '?I,55$DF#', 5.6: '?I,56$E0#', 5.7: '?I,57$E1#', 5.8: '?I,58$E2#', 5.9: '?I,59$E3#', 6.0: '?I,60$DB#', 6.1: '?I,61$DC#', 6.2: '?I,62$DD#', 6.3: '?I,63$DE#', 6.4: '?I,64$DF#', 6.5: '?I,65$E0#', 6.6: '?I,66$E1#', 6.7: '?I,67$E2#', 6.8: '?I,68$E3#', 6.9: '?I,69$E4#', 7.0: '?I,70$DC#', 7.1: '?I,71$DD#', 7.2: '?I,72$DE#', 7.3: '?I,73$DF#', 7.4: '?I,74$E0#', 7.5: '?I,75$E1#', 7.6: '?I,76$E2#', 7.7: '?I,77$E3#', 7.8: '?I,78$E4#', 7.9: '?I,79$E5#', 8.0: '?I,80$DD#', 8.1: '?I,81$DE#', 8.2: '?I,82$DF#', 8.3: '?I,83$E0#', 8.4: '?I,84$E1#', 8.5: '?I,85$E2#', 8.6: '?I,86$E3#', 8.7: '?I,87$E4#', 8.8: '?I,88$E5#', 8.9: '?I,89$E6#', 9.0: '?I,90$DE#', 9.1: '?I,91$DF#', 9.2: '?I,92$E0#', 9.3: '?I,93$E1#', 9.4: '?I,94$E2#', 9.5: '?I,95$E3#', 9.6: '?I,96$E4#', 9.7: '?I,97$E5#', 9.8: '?I,98$E6#', 9.9: '?I,99$E7#', 10.0: '?I,100$06#'}\n"
     ]
    }
   ],
   "source": [
    "connector = SGC_connector(\n",
    "    port = \"/dev/tty.usbserial-A50027Ed\", \n",
    "    intensity_codes_path=Path(\"/Users/au661930/Library/CloudStorage/OneDrive-Aarhusuniversitet/Dokumenter/projects/_BreathingCerebellOPM/code/breathingcerebellum/intensity_code.csv\")\n",
    "    )"
   ]
  },
  {
   "cell_type": "code",
   "execution_count": 16,
   "metadata": {},
   "outputs": [],
   "source": [
    "connector.send_pulse()"
   ]
  },
  {
   "cell_type": "code",
   "execution_count": 31,
   "metadata": {},
   "outputs": [
    {
     "name": "stdout",
     "output_type": "stream",
     "text": [
      "2.7\n",
      "2.8\n",
      "2.9\n"
     ]
    }
   ],
   "source": [
    "for i in range (27, 30):\n",
    "    connector.change_intensity(i/10)\n",
    "    print(i/10)"
   ]
  },
  {
   "cell_type": "code",
   "execution_count": 39,
   "metadata": {},
   "outputs": [
    {
     "data": {
      "text/plain": [
       "4.0"
      ]
     },
     "execution_count": 39,
     "metadata": {},
     "output_type": "execute_result"
    }
   ],
   "source": [
    "np.floor(4)"
   ]
  },
  {
   "cell_type": "code",
   "execution_count": 37,
   "metadata": {},
   "outputs": [
    {
     "data": {
      "text/plain": [
       "4.0"
      ]
     },
     "execution_count": 37,
     "metadata": {},
     "output_type": "execute_result"
    }
   ],
   "source": [
    "np.ceil(4)"
   ]
  },
  {
   "cell_type": "code",
   "execution_count": 33,
   "metadata": {},
   "outputs": [],
   "source": [
    "\n",
    "connector.change_intensity(4.9)"
   ]
  },
  {
   "cell_type": "code",
   "execution_count": 14,
   "metadata": {},
   "outputs": [],
   "source": [
    "connector.set_pulse_duration()\n"
   ]
  },
  {
   "cell_type": "code",
   "execution_count": 8,
   "metadata": {},
   "outputs": [
    {
     "data": {
      "text/plain": [
       "2"
      ]
     },
     "execution_count": 8,
     "metadata": {},
     "output_type": "execute_result"
    }
   ],
   "source": [
    "QUEST = QuestPlusHandler(\n",
    "            startIntensity=2,  # Initial guess for intensity\n",
    "            intensityVals = np.arange(0.1, 4.1, 0.1),\n",
    "            thresholdVals=0.5,  # Target probability threshold (e.g., 75% detection) NOTE: not sure this is true???\n",
    "            stimScale = \"linear\",\n",
    "            responseVals = (0, 1),\n",
    "            nTrials=100,  # Total number of trials\n",
    "            slopeVals=3.5,  # Slope of the psychometric function??\n",
    "            lowerAsymptoteVals=0.5,  # Guess rate (e.g., 50% for a 2-alternative forced choice task)\n",
    "            lapseRateVals=0.01  # Lapse rate (probability of missing a stimulus even if it's detectable)\n",
    "        )\n",
    "\n",
    "QUEST.next()"
   ]
  }
 ],
 "metadata": {
  "kernelspec": {
   "display_name": "psychopy39",
   "language": "python",
   "name": "python3"
  },
  "language_info": {
   "codemirror_mode": {
    "name": "ipython",
    "version": 3
   },
   "file_extension": ".py",
   "mimetype": "text/x-python",
   "name": "python",
   "nbconvert_exporter": "python",
   "pygments_lexer": "ipython3",
   "version": "3.9.18"
  }
 },
 "nbformat": 4,
 "nbformat_minor": 2
}
